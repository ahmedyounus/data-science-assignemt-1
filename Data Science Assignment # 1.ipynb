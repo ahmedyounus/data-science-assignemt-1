{
 "cells": [
  {
   "cell_type": "code",
   "execution_count": 1,
   "id": "5ede5148",
   "metadata": {},
   "outputs": [
    {
     "name": "stdout",
     "output_type": "stream",
     "text": [
      "Twinkle, twinkle, little star,\n",
      "        How I wonder what you are!\n",
      "                Up above the world so high,\n",
      "                Like a diamond in the sky.\n",
      "Twinkle, twinkle, little star,\n",
      "        How I wonder what you are\n"
     ]
    }
   ],
   "source": [
    "'''1. Write a Python program to print the following string in a specific format (see the\n",
    "output).\n",
    "Twinkle, twinkle, little star,\n",
    "\n",
    "How I wonder what you are!\n",
    "\n",
    "Up above the world so high,\n",
    "Like a diamond in the sky.\n",
    "\n",
    "Twinkle, twinkle, little star,\n",
    "\n",
    "How I wonder what you are'''\n",
    "\n",
    "\n",
    "print('''Twinkle, twinkle, little star,\n",
    "        How I wonder what you are!\n",
    "                Up above the world so high,\n",
    "                Like a diamond in the sky.\n",
    "Twinkle, twinkle, little star,\n",
    "        How I wonder what you are''')"
   ]
  },
  {
   "cell_type": "code",
   "execution_count": 2,
   "id": "866aa5eb",
   "metadata": {},
   "outputs": [
    {
     "name": "stdout",
     "output_type": "stream",
     "text": [
      "Python version\n",
      "3.8.8 (default, Apr 13 2021, 15:08:03) [MSC v.1916 64 bit (AMD64)]\n"
     ]
    }
   ],
   "source": [
    "# 2. Write a Python program to get the Python version you are using\n",
    "\n",
    "import sys\n",
    "print(\"Python version\")\n",
    "print (sys.version)"
   ]
  },
  {
   "cell_type": "code",
   "execution_count": 3,
   "id": "9d21d8e5",
   "metadata": {},
   "outputs": [
    {
     "name": "stdout",
     "output_type": "stream",
     "text": [
      "Current date and time : \n",
      "2022-01-01 14:26:00\n"
     ]
    }
   ],
   "source": [
    "# 3. Write a Python program to display the current date and time. \n",
    "\n",
    "import datetime\n",
    "now = datetime.datetime.now()\n",
    "print (\"Current date and time : \")\n",
    "print (now.strftime(\"%Y-%m-%d %H:%M:%S\"))"
   ]
  },
  {
   "cell_type": "code",
   "execution_count": 4,
   "id": "a0634275",
   "metadata": {},
   "outputs": [
    {
     "name": "stdout",
     "output_type": "stream",
     "text": [
      "Please Enter The radius of the Circle : 25\n",
      "Area of the Circle is 1963.75\n"
     ]
    }
   ],
   "source": [
    "# 4. Write a Python program which accepts the radius of a circle from the user and compute the area. \n",
    "\n",
    "pi = 3.142;\n",
    "r = int(input(\"Please Enter The radius of the Circle : \"));\n",
    "area = pi * r**2;\n",
    "print(\"Area of the Circle is \" + str(area));"
   ]
  },
  {
   "cell_type": "code",
   "execution_count": 5,
   "id": "a920f319",
   "metadata": {},
   "outputs": [
    {
     "name": "stdout",
     "output_type": "stream",
     "text": [
      "Please Enter Your First Name : Ahmed\n",
      "Please Enter Your Last Name : Younus\n",
      "Younus Ahmed\n"
     ]
    }
   ],
   "source": [
    "# 5. Write a Python program which accepts the user's first and last name and print them in reverse order with a space between them\n",
    "\n",
    "first = input(\"Please Enter Your First Name : \");\n",
    "last = input(\"Please Enter Your Last Name : \");\n",
    "print(last + \" \" + first);"
   ]
  },
  {
   "cell_type": "code",
   "execution_count": 6,
   "id": "6da6d77b",
   "metadata": {},
   "outputs": [
    {
     "name": "stdout",
     "output_type": "stream",
     "text": [
      "Please Enter Your First Number : 25\n",
      "Please Enter Your Second Number : 35\n",
      "Total is 60\n"
     ]
    }
   ],
   "source": [
    "# 6. Write a python program which takes two inputs from user and print them addition \n",
    "\n",
    "first = int(input(\"Please Enter Your First Number : \"));\n",
    "second = int(input(\"Please Enter Your Second Number : \"));\n",
    "add = first + second\n",
    "print(\"Total is \"+ str(add));\n"
   ]
  },
  {
   "cell_type": "code",
   "execution_count": null,
   "id": "4715aa62",
   "metadata": {},
   "outputs": [],
   "source": []
  }
 ],
 "metadata": {
  "kernelspec": {
   "display_name": "Python 3",
   "language": "python",
   "name": "python3"
  },
  "language_info": {
   "codemirror_mode": {
    "name": "ipython",
    "version": 3
   },
   "file_extension": ".py",
   "mimetype": "text/x-python",
   "name": "python",
   "nbconvert_exporter": "python",
   "pygments_lexer": "ipython3",
   "version": "3.8.8"
  }
 },
 "nbformat": 4,
 "nbformat_minor": 5
}
